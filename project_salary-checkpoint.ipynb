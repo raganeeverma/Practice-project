{
 "cells": [
  {
   "cell_type": "code",
   "execution_count": 1,
   "id": "6d60b817",
   "metadata": {},
   "outputs": [],
   "source": [
    "import pandas as pd\n",
    "import numpy as np\n",
    "import matplotlib.pyplot as plt\n",
    "import seaborn as sns\n",
    "\n",
    "%matplotlib inline\n",
    "import warnings # Ignores any warning\n",
    "warnings.filterwarnings(\"ignore\")"
   ]
  },
  {
   "cell_type": "code",
   "execution_count": 2,
   "id": "79fc581a",
   "metadata": {},
   "outputs": [
    {
     "name": "stdout",
     "output_type": "stream",
     "text": [
      "(397, 6)\n"
     ]
    },
    {
     "data": {
      "text/html": [
       "<div>\n",
       "<style scoped>\n",
       "    .dataframe tbody tr th:only-of-type {\n",
       "        vertical-align: middle;\n",
       "    }\n",
       "\n",
       "    .dataframe tbody tr th {\n",
       "        vertical-align: top;\n",
       "    }\n",
       "\n",
       "    .dataframe thead th {\n",
       "        text-align: right;\n",
       "    }\n",
       "</style>\n",
       "<table border=\"1\" class=\"dataframe\">\n",
       "  <thead>\n",
       "    <tr style=\"text-align: right;\">\n",
       "      <th></th>\n",
       "      <th>rank</th>\n",
       "      <th>discipline</th>\n",
       "      <th>yrs.since.phd</th>\n",
       "      <th>yrs.service</th>\n",
       "      <th>sex</th>\n",
       "      <th>salary</th>\n",
       "    </tr>\n",
       "  </thead>\n",
       "  <tbody>\n",
       "    <tr>\n",
       "      <th>0</th>\n",
       "      <td>Prof</td>\n",
       "      <td>B</td>\n",
       "      <td>19</td>\n",
       "      <td>18</td>\n",
       "      <td>Male</td>\n",
       "      <td>139750</td>\n",
       "    </tr>\n",
       "    <tr>\n",
       "      <th>1</th>\n",
       "      <td>Prof</td>\n",
       "      <td>B</td>\n",
       "      <td>20</td>\n",
       "      <td>16</td>\n",
       "      <td>Male</td>\n",
       "      <td>173200</td>\n",
       "    </tr>\n",
       "    <tr>\n",
       "      <th>2</th>\n",
       "      <td>AsstProf</td>\n",
       "      <td>B</td>\n",
       "      <td>4</td>\n",
       "      <td>3</td>\n",
       "      <td>Male</td>\n",
       "      <td>79750</td>\n",
       "    </tr>\n",
       "    <tr>\n",
       "      <th>3</th>\n",
       "      <td>Prof</td>\n",
       "      <td>B</td>\n",
       "      <td>45</td>\n",
       "      <td>39</td>\n",
       "      <td>Male</td>\n",
       "      <td>115000</td>\n",
       "    </tr>\n",
       "    <tr>\n",
       "      <th>4</th>\n",
       "      <td>Prof</td>\n",
       "      <td>B</td>\n",
       "      <td>40</td>\n",
       "      <td>41</td>\n",
       "      <td>Male</td>\n",
       "      <td>141500</td>\n",
       "    </tr>\n",
       "  </tbody>\n",
       "</table>\n",
       "</div>"
      ],
      "text/plain": [
       "       rank discipline  yrs.since.phd  yrs.service   sex  salary\n",
       "0      Prof          B             19           18  Male  139750\n",
       "1      Prof          B             20           16  Male  173200\n",
       "2  AsstProf          B              4            3  Male   79750\n",
       "3      Prof          B             45           39  Male  115000\n",
       "4      Prof          B             40           41  Male  141500"
      ]
     },
     "execution_count": 2,
     "metadata": {},
     "output_type": "execute_result"
    }
   ],
   "source": [
    "data = pd.read_csv('project_salary.csv')\n",
    "print(data.shape)\n",
    "data.head()"
   ]
  },
  {
   "cell_type": "code",
   "execution_count": 3,
   "id": "21b3e952",
   "metadata": {},
   "outputs": [
    {
     "data": {
      "text/plain": [
       "Index(['rank', 'discipline', 'yrs.since.phd', 'yrs.service', 'sex', 'salary'], dtype='object')"
      ]
     },
     "execution_count": 3,
     "metadata": {},
     "output_type": "execute_result"
    }
   ],
   "source": [
    "data.columns"
   ]
  },
  {
   "cell_type": "code",
   "execution_count": 4,
   "id": "bc1f678d",
   "metadata": {},
   "outputs": [
    {
     "data": {
      "text/plain": [
       "array(['Male', 'Female'], dtype=object)"
      ]
     },
     "execution_count": 4,
     "metadata": {},
     "output_type": "execute_result"
    }
   ],
   "source": [
    "data[\"sex\"].unique()"
   ]
  },
  {
   "cell_type": "code",
   "execution_count": 5,
   "id": "41a3a843",
   "metadata": {},
   "outputs": [
    {
     "data": {
      "text/plain": [
       "array(['Prof', 'AsstProf', 'AssocProf'], dtype=object)"
      ]
     },
     "execution_count": 5,
     "metadata": {},
     "output_type": "execute_result"
    }
   ],
   "source": [
    "data[\"rank\"].unique()\n",
    "\n"
   ]
  },
  {
   "cell_type": "code",
   "execution_count": 6,
   "id": "355b86ce",
   "metadata": {},
   "outputs": [
    {
     "data": {
      "text/plain": [
       "array(['B', 'A'], dtype=object)"
      ]
     },
     "execution_count": 6,
     "metadata": {},
     "output_type": "execute_result"
    }
   ],
   "source": [
    "data[\"discipline\"].unique()"
   ]
  },
  {
   "cell_type": "markdown",
   "id": "08648191",
   "metadata": {},
   "source": [
    "# check for missing value"
   ]
  },
  {
   "cell_type": "code",
   "execution_count": 7,
   "id": "6a3eb8ed",
   "metadata": {},
   "outputs": [
    {
     "data": {
      "text/plain": [
       "<AxesSubplot:>"
      ]
     },
     "execution_count": 7,
     "metadata": {},
     "output_type": "execute_result"
    },
    {
     "data": {
      "image/png": "[encoded data removed]",
      "text/plain": [
       "<Figure size 432x288 with 2 Axes>"
      ]
     },
     "metadata": {
      "needs_background": "light"
     },
     "output_type": "display_data"
    }
   ],
   "source": [
    "sns.heatmap(data.isnull())"
   ]
  },
  {
   "cell_type": "code",
   "execution_count": 8,
   "id": "2743f720",
   "metadata": {},
   "outputs": [
    {
     "data": {
      "text/plain": [
       "rank             0\n",
       "discipline       0\n",
       "yrs.since.phd    0\n",
       "yrs.service      0\n",
       "sex              0\n",
       "salary           0\n",
       "dtype: int64"
      ]
     },
     "execution_count": 8,
     "metadata": {},
     "output_type": "execute_result"
    }
   ],
   "source": [
    "data.isnull().sum()"
   ]
  },
  {
   "cell_type": "code",
   "execution_count": 9,
   "id": "765d842f",
   "metadata": {},
   "outputs": [
    {
     "data": {
      "text/plain": [
       "rank             object\n",
       "discipline       object\n",
       "yrs.since.phd     int64\n",
       "yrs.service       int64\n",
       "sex              object\n",
       "salary            int64\n",
       "dtype: object"
      ]
     },
     "execution_count": 9,
     "metadata": {},
     "output_type": "execute_result"
    }
   ],
   "source": [
    "data.dtypes"
   ]
  },
  {
   "cell_type": "code",
   "execution_count": 10,
   "id": "178d0def",
   "metadata": {},
   "outputs": [
    {
     "data": {
      "text/plain": [
       "<bound method DataFrame.info of          rank discipline  yrs.since.phd  yrs.service   sex  salary\n",
       "0        Prof          B             19           18  Male  139750\n",
       "1        Prof          B             20           16  Male  173200\n",
       "2    AsstProf          B              4            3  Male   79750\n",
       "3        Prof          B             45           39  Male  115000\n",
       "4        Prof          B             40           41  Male  141500\n",
       "..        ...        ...            ...          ...   ...     ...\n",
       "392      Prof          A             33           30  Male  103106\n",
       "393      Prof          A             31           19  Male  150564\n",
       "394      Prof          A             42           25  Male  101738\n",
       "395      Prof          A             25           15  Male   95329\n",
       "396  AsstProf          A              8            4  Male   81035\n",
       "\n",
       "[397 rows x 6 columns]>"
      ]
     },
     "execution_count": 10,
     "metadata": {},
     "output_type": "execute_result"
    }
   ],
   "source": [
    "data.info"
   ]
  },
  {
   "cell_type": "markdown",
   "id": "d1513c2a",
   "metadata": {},
   "source": [
    "# Duplicates¶"
   ]
  },
  {
   "cell_type": "code",
   "execution_count": 11,
   "id": "90f39e86",
   "metadata": {},
   "outputs": [
    {
     "data": {
      "text/html": [
       "<div>\n",
       "<style scoped>\n",
       "    .dataframe tbody tr th:only-of-type {\n",
       "        vertical-align: middle;\n",
       "    }\n",
       "\n",
       "    .dataframe tbody tr th {\n",
       "        vertical-align: top;\n",
       "    }\n",
       "\n",
       "    .dataframe thead th {\n",
       "        text-align: right;\n",
       "    }\n",
       "</style>\n",
       "<table border=\"1\" class=\"dataframe\">\n",
       "  <thead>\n",
       "    <tr style=\"text-align: right;\">\n",
       "      <th></th>\n",
       "      <th>rank</th>\n",
       "      <th>discipline</th>\n",
       "      <th>yrs.since.phd</th>\n",
       "      <th>yrs.service</th>\n",
       "      <th>sex</th>\n",
       "      <th>salary</th>\n",
       "    </tr>\n",
       "  </thead>\n",
       "  <tbody>\n",
       "    <tr>\n",
       "      <th>0</th>\n",
       "      <td>Prof</td>\n",
       "      <td>B</td>\n",
       "      <td>19</td>\n",
       "      <td>18</td>\n",
       "      <td>Male</td>\n",
       "      <td>139750</td>\n",
       "    </tr>\n",
       "    <tr>\n",
       "      <th>1</th>\n",
       "      <td>Prof</td>\n",
       "      <td>B</td>\n",
       "      <td>20</td>\n",
       "      <td>16</td>\n",
       "      <td>Male</td>\n",
       "      <td>173200</td>\n",
       "    </tr>\n",
       "    <tr>\n",
       "      <th>2</th>\n",
       "      <td>AsstProf</td>\n",
       "      <td>B</td>\n",
       "      <td>4</td>\n",
       "      <td>3</td>\n",
       "      <td>Male</td>\n",
       "      <td>79750</td>\n",
       "    </tr>\n",
       "    <tr>\n",
       "      <th>3</th>\n",
       "      <td>Prof</td>\n",
       "      <td>B</td>\n",
       "      <td>45</td>\n",
       "      <td>39</td>\n",
       "      <td>Male</td>\n",
       "      <td>115000</td>\n",
       "    </tr>\n",
       "    <tr>\n",
       "      <th>4</th>\n",
       "      <td>Prof</td>\n",
       "      <td>B</td>\n",
       "      <td>40</td>\n",
       "      <td>41</td>\n",
       "      <td>Male</td>\n",
       "      <td>141500</td>\n",
       "    </tr>\n",
       "    <tr>\n",
       "      <th>...</th>\n",
       "      <td>...</td>\n",
       "      <td>...</td>\n",
       "      <td>...</td>\n",
       "      <td>...</td>\n",
       "      <td>...</td>\n",
       "      <td>...</td>\n",
       "    </tr>\n",
       "    <tr>\n",
       "      <th>392</th>\n",
       "      <td>Prof</td>\n",
       "      <td>A</td>\n",
       "      <td>33</td>\n",
       "      <td>30</td>\n",
       "      <td>Male</td>\n",
       "      <td>103106</td>\n",
       "    </tr>\n",
       "    <tr>\n",
       "      <th>393</th>\n",
       "      <td>Prof</td>\n",
       "      <td>A</td>\n",
       "      <td>31</td>\n",
       "      <td>19</td>\n",
       "      <td>Male</td>\n",
       "      <td>150564</td>\n",
       "    </tr>\n",
       "    <tr>\n",
       "      <th>394</th>\n",
       "      <td>Prof</td>\n",
       "      <td>A</td>\n",
       "      <td>42</td>\n",
       "      <td>25</td>\n",
       "      <td>Male</td>\n",
       "      <td>101738</td>\n",
       "    </tr>\n",
       "    <tr>\n",
       "      <th>395</th>\n",
       "      <td>Prof</td>\n",
       "      <td>A</td>\n",
       "      <td>25</td>\n",
       "      <td>15</td>\n",
       "      <td>Male</td>\n",
       "      <td>95329</td>\n",
       "    </tr>\n",
       "    <tr>\n",
       "      <th>396</th>\n",
       "      <td>AsstProf</td>\n",
       "      <td>A</td>\n",
       "      <td>8</td>\n",
       "      <td>4</td>\n",
       "      <td>Male</td>\n",
       "      <td>81035</td>\n",
       "    </tr>\n",
       "  </tbody>\n",
       "</table>\n",
       "<p>393 rows × 6 columns</p>\n",
       "</div>"
      ],
      "text/plain": [
       "         rank discipline  yrs.since.phd  yrs.service   sex  salary\n",
       "0        Prof          B             19           18  Male  139750\n",
       "1        Prof          B             20           16  Male  173200\n",
       "2    AsstProf          B              4            3  Male   79750\n",
       "3        Prof          B             45           39  Male  115000\n",
       "4        Prof          B             40           41  Male  141500\n",
       "..        ...        ...            ...          ...   ...     ...\n",
       "392      Prof          A             33           30  Male  103106\n",
       "393      Prof          A             31           19  Male  150564\n",
       "394      Prof          A             42           25  Male  101738\n",
       "395      Prof          A             25           15  Male   95329\n",
       "396  AsstProf          A              8            4  Male   81035\n",
       "\n",
       "[393 rows x 6 columns]"
      ]
     },
     "execution_count": 11,
     "metadata": {},
     "output_type": "execute_result"
    }
   ],
   "source": [
    "# if duplicate value present drop this row\n",
    "\n",
    "data.drop_duplicates() "
   ]
  },
  {
   "cell_type": "code",
   "execution_count": 12,
   "id": "f181de02",
   "metadata": {},
   "outputs": [
    {
     "data": {
      "text/plain": [
       "(397, 6)"
      ]
     },
     "execution_count": 12,
     "metadata": {},
     "output_type": "execute_result"
    }
   ],
   "source": [
    "data.shape"
   ]
  },
  {
   "cell_type": "markdown",
   "id": "58b08d2d",
   "metadata": {},
   "source": [
    "no duplicates"
   ]
  },
  {
   "cell_type": "markdown",
   "id": "7c619806",
   "metadata": {},
   "source": [
    "# Visualization"
   ]
  },
  {
   "cell_type": "code",
   "execution_count": 13,
   "id": "c0af3c9a",
   "metadata": {},
   "outputs": [
    {
     "data": {
      "text/plain": [
       "Prof         266\n",
       "AsstProf      67\n",
       "AssocProf     64\n",
       "Name: rank, dtype: int64"
      ]
     },
     "execution_count": 13,
     "metadata": {},
     "output_type": "execute_result"
    },
    {
     "data": {
      "image/png": "[encoded data removed]",
      "text/plain": [
       "<Figure size 720x504 with 1 Axes>"
      ]
     },
     "metadata": {
      "needs_background": "light"
     },
     "output_type": "display_data"
    }
   ],
   "source": [
    "plt.figure(figsize=(10,7))\n",
    "sns.countplot(data[\"rank\"])\n",
    "data[\"rank\"].value_counts()\n"
   ]
  },
  {
   "cell_type": "code",
   "execution_count": 14,
   "id": "9f7e5e35",
   "metadata": {},
   "outputs": [
    {
     "data": {
      "text/plain": [
       "Male      358\n",
       "Female     39\n",
       "Name: sex, dtype: int64"
      ]
     },
     "execution_count": 14,
     "metadata": {},
     "output_type": "execute_result"
    },
    {
     "data": {
      "image/png": "[encoded data removed]",
      "text/plain": [
       "<Figure size 720x504 with 1 Axes>"
      ]
     },
     "metadata": {
      "needs_background": "light"
     },
     "output_type": "display_data"
    }
   ],
   "source": [
    "plt.figure(figsize=(10,7))\n",
    "sns.countplot(data[\"sex\"])\n",
    "data[\"sex\"].value_counts()"
   ]
  },
  {
   "cell_type": "code",
   "execution_count": 15,
   "id": "031eaacc",
   "metadata": {},
   "outputs": [
    {
     "data": {
      "text/plain": [
       "B    216\n",
       "A    181\n",
       "Name: discipline, dtype: int64"
      ]
     },
     "execution_count": 15,
     "metadata": {},
     "output_type": "execute_result"
    },
    {
     "data": {
      "image/png": "[encoded data removed]",
      "text/plain": [
       "<Figure size 720x504 with 1 Axes>"
      ]
     },
     "metadata": {
      "needs_background": "light"
     },
     "output_type": "display_data"
    }
   ],
   "source": [
    "plt.figure(figsize=(10,7))\n",
    "sns.countplot(data[\"discipline\"])\n",
    "data[\"discipline\"].value_counts()"
   ]
  },
  {
   "cell_type": "code",
   "execution_count": 16,
   "id": "74fae9da",
   "metadata": {},
   "outputs": [
    {
     "data": {
      "text/html": [
       "<div>\n",
       "<style scoped>\n",
       "    .dataframe tbody tr th:only-of-type {\n",
       "        vertical-align: middle;\n",
       "    }\n",
       "\n",
       "    .dataframe tbody tr th {\n",
       "        vertical-align: top;\n",
       "    }\n",
       "\n",
       "    .dataframe thead th {\n",
       "        text-align: right;\n",
       "    }\n",
       "</style>\n",
       "<table border=\"1\" class=\"dataframe\">\n",
       "  <thead>\n",
       "    <tr style=\"text-align: right;\">\n",
       "      <th></th>\n",
       "      <th>yrs.since.phd</th>\n",
       "      <th>yrs.service</th>\n",
       "      <th>salary</th>\n",
       "    </tr>\n",
       "  </thead>\n",
       "  <tbody>\n",
       "    <tr>\n",
       "      <th>count</th>\n",
       "      <td>397.000000</td>\n",
       "      <td>397.000000</td>\n",
       "      <td>397.000000</td>\n",
       "    </tr>\n",
       "    <tr>\n",
       "      <th>mean</th>\n",
       "      <td>22.314861</td>\n",
       "      <td>17.614610</td>\n",
       "      <td>113706.458438</td>\n",
       "    </tr>\n",
       "    <tr>\n",
       "      <th>std</th>\n",
       "      <td>12.887003</td>\n",
       "      <td>13.006024</td>\n",
       "      <td>30289.038695</td>\n",
       "    </tr>\n",
       "    <tr>\n",
       "      <th>min</th>\n",
       "      <td>1.000000</td>\n",
       "      <td>0.000000</td>\n",
       "      <td>57800.000000</td>\n",
       "    </tr>\n",
       "    <tr>\n",
       "      <th>25%</th>\n",
       "      <td>12.000000</td>\n",
       "      <td>7.000000</td>\n",
       "      <td>91000.000000</td>\n",
       "    </tr>\n",
       "    <tr>\n",
       "      <th>50%</th>\n",
       "      <td>21.000000</td>\n",
       "      <td>16.000000</td>\n",
       "      <td>107300.000000</td>\n",
       "    </tr>\n",
       "    <tr>\n",
       "      <th>75%</th>\n",
       "      <td>32.000000</td>\n",
       "      <td>27.000000</td>\n",
       "      <td>134185.000000</td>\n",
       "    </tr>\n",
       "    <tr>\n",
       "      <th>max</th>\n",
       "      <td>56.000000</td>\n",
       "      <td>60.000000</td>\n",
       "      <td>231545.000000</td>\n",
       "    </tr>\n",
       "  </tbody>\n",
       "</table>\n",
       "</div>"
      ],
      "text/plain": [
       "       yrs.since.phd  yrs.service         salary\n",
       "count     397.000000   397.000000     397.000000\n",
       "mean       22.314861    17.614610  113706.458438\n",
       "std        12.887003    13.006024   30289.038695\n",
       "min         1.000000     0.000000   57800.000000\n",
       "25%        12.000000     7.000000   91000.000000\n",
       "50%        21.000000    16.000000  107300.000000\n",
       "75%        32.000000    27.000000  134185.000000\n",
       "max        56.000000    60.000000  231545.000000"
      ]
     },
     "execution_count": 16,
     "metadata": {},
     "output_type": "execute_result"
    }
   ],
   "source": [
    "data.describe()"
   ]
  },
  {
   "cell_type": "markdown",
   "id": "3ee9cc5e",
   "metadata": {},
   "source": [
    "# Dist plot for continues variable"
   ]
  },
  {
   "cell_type": "code",
   "execution_count": 17,
   "id": "d3d7e1b0",
   "metadata": {},
   "outputs": [
    {
     "data": {
      "image/png": "[encoded data removed]",
      "text/plain": [
       "<Figure size 432x288 with 1 Axes>"
      ]
     },
     "metadata": {
      "needs_background": "light"
     },
     "output_type": "display_data"
    },
    {
     "data": {
      "image/png": "[encoded data removed]",
      "text/plain": [
       "<Figure size 432x288 with 1 Axes>"
      ]
     },
     "metadata": {
      "needs_background": "light"
     },
     "output_type": "display_data"
    },
    {
     "data": {
      "image/png": "[encoded data removed]",
      "text/plain": [
       "<Figure size 432x288 with 1 Axes>"
      ]
     },
     "metadata": {
      "needs_background": "light"
     },
     "output_type": "display_data"
    }
   ],
   "source": [
    "for i in data.describe().columns:\n",
    "    sns.distplot(data[i].dropna())\n",
    "    plt.show()"
   ]
  },
  {
   "cell_type": "markdown",
   "id": "9bc53528",
   "metadata": {},
   "source": [
    "all graph shows normal distribution little bit skewness present in yrs.service"
   ]
  },
  {
   "cell_type": "markdown",
   "id": "41669a82",
   "metadata": {},
   "source": [
    "# check for outliers"
   ]
  },
  {
   "cell_type": "code",
   "execution_count": 18,
   "id": "6ace36d8",
   "metadata": {},
   "outputs": [
    {
     "data": {
      "image/png": "[encoded data removed]",
      "text/plain": [
       "<Figure size 432x288 with 1 Axes>"
      ]
     },
     "metadata": {
      "needs_background": "light"
     },
     "output_type": "display_data"
    },
    {
     "data": {
      "image/png": "[encoded data removed]",
      "text/plain": [
       "<Figure size 432x288 with 1 Axes>"
      ]
     },
     "metadata": {
      "needs_background": "light"
     },
     "output_type": "display_data"
    },
    {
     "data": {
      "image/png": "[encoded data removed]",
      "text/plain": [
       "<Figure size 432x288 with 1 Axes>"
      ]
     },
     "metadata": {
      "needs_background": "light"
     },
     "output_type": "display_data"
    }
   ],
   "source": [
    "for i in data.describe().columns:\n",
    "    sns.boxplot(data[i].dropna())\n",
    "    plt.show()"
   ]
  },
  {
   "cell_type": "markdown",
   "id": "ff31b85e",
   "metadata": {},
   "source": [
    "Few outliers are present this is negligible"
   ]
  },
  {
   "cell_type": "markdown",
   "id": "7ffb4613",
   "metadata": {},
   "source": [
    "# CHECK CORRELATION"
   ]
  },
  {
   "cell_type": "code",
   "execution_count": 19,
   "id": "05467a78",
   "metadata": {},
   "outputs": [
    {
     "data": {
      "text/plain": [
       "<function matplotlib.pyplot.show(close=None, block=None)>"
      ]
     },
     "execution_count": 19,
     "metadata": {},
     "output_type": "execute_result"
    },
    {
     "data": {
      "image/png": "[encoded data removed]",
      "text/plain": [
       "<Figure size 576x360 with 2 Axes>"
      ]
     },
     "metadata": {
      "needs_background": "light"
     },
     "output_type": "display_data"
    }
   ],
   "source": [
    "plt.figure(figsize=(8,5))\n",
    "sns.heatmap(data.corr(),annot=True)\n",
    "plt.show"
   ]
  },
  {
   "cell_type": "code",
   "execution_count": 20,
   "id": "1a755654",
   "metadata": {},
   "outputs": [
    {
     "data": {
      "text/plain": [
       "<AxesSubplot:title={'center':'Correlation with salary'}>"
      ]
     },
     "execution_count": 20,
     "metadata": {},
     "output_type": "execute_result"
    },
    {
     "data": {
      "image/png": "[encoded data removed]",
      "text/plain": [
       "<Figure size 720x360 with 1 Axes>"
      ]
     },
     "metadata": {
      "needs_background": "light"
     },
     "output_type": "display_data"
    }
   ],
   "source": [
    "#Correlation with salary with respect to other columns\n",
    "data.corrwith(data.salary).plot.bar(\n",
    "        figsize = (10, 5), title = \"Correlation with salary\", fontsize = 15,\n",
    "        rot = 45, grid = True)"
   ]
  },
  {
   "cell_type": "markdown",
   "id": "1c986d3f",
   "metadata": {},
   "source": [
    "all column is positive correlitad"
   ]
  },
  {
   "cell_type": "markdown",
   "id": "f32e27e0",
   "metadata": {},
   "source": [
    "# Bivareiate Visualization"
   ]
  },
  {
   "cell_type": "code",
   "execution_count": 21,
   "id": "b22ac099",
   "metadata": {},
   "outputs": [
    {
     "data": {
      "image/png": "[encoded data removed]",
      "text/plain": [
       "<Figure size 432x288 with 1 Axes>"
      ]
     },
     "metadata": {
      "needs_background": "light"
     },
     "output_type": "display_data"
    }
   ],
   "source": [
    "sns.scatterplot(x='salary',y=\"yrs.since.phd\",data=data)\n",
    "plt.show()"
   ]
  },
  {
   "cell_type": "code",
   "execution_count": 22,
   "id": "5b6971bd",
   "metadata": {},
   "outputs": [
    {
     "data": {
      "image/png": "[encoded data removed]",
      "text/plain": [
       "<Figure size 432x288 with 1 Axes>"
      ]
     },
     "metadata": {
      "needs_background": "light"
     },
     "output_type": "display_data"
    }
   ],
   "source": [
    "sns.scatterplot(x='salary',y=\"yrs.service\",data=data)\n",
    "plt.show()"
   ]
  },
  {
   "cell_type": "markdown",
   "id": "34ed9f12",
   "metadata": {},
   "source": [
    "salary of employee is incresed when yrs.since.phd and yrs.service is incresed"
   ]
  },
  {
   "cell_type": "markdown",
   "id": "9dc6c177",
   "metadata": {},
   "source": [
    "# Dealing with catigorical variable"
   ]
  },
  {
   "cell_type": "markdown",
   "id": "85407a98",
   "metadata": {},
   "source": [
    "# Lable Encoding"
   ]
  },
  {
   "cell_type": "code",
   "execution_count": 23,
   "id": "ebad303b",
   "metadata": {},
   "outputs": [],
   "source": [
    "from sklearn.preprocessing import LabelEncoder\n",
    "le=LabelEncoder()"
   ]
  },
  {
   "cell_type": "code",
   "execution_count": 24,
   "id": "e98d7547",
   "metadata": {},
   "outputs": [],
   "source": [
    "#for chenging all catigorical value into numeric value\n",
    "\n",
    "data=data.apply(le.fit_transform)"
   ]
  },
  {
   "cell_type": "code",
   "execution_count": 25,
   "id": "cc30d385",
   "metadata": {},
   "outputs": [
    {
     "data": {
      "text/html": [
       "<div>\n",
       "<style scoped>\n",
       "    .dataframe tbody tr th:only-of-type {\n",
       "        vertical-align: middle;\n",
       "    }\n",
       "\n",
       "    .dataframe tbody tr th {\n",
       "        vertical-align: top;\n",
       "    }\n",
       "\n",
       "    .dataframe thead th {\n",
       "        text-align: right;\n",
       "    }\n",
       "</style>\n",
       "<table border=\"1\" class=\"dataframe\">\n",
       "  <thead>\n",
       "    <tr style=\"text-align: right;\">\n",
       "      <th></th>\n",
       "      <th>rank</th>\n",
       "      <th>discipline</th>\n",
       "      <th>yrs.since.phd</th>\n",
       "      <th>yrs.service</th>\n",
       "      <th>sex</th>\n",
       "      <th>salary</th>\n",
       "    </tr>\n",
       "  </thead>\n",
       "  <tbody>\n",
       "    <tr>\n",
       "      <th>0</th>\n",
       "      <td>2</td>\n",
       "      <td>1</td>\n",
       "      <td>18</td>\n",
       "      <td>18</td>\n",
       "      <td>1</td>\n",
       "      <td>289</td>\n",
       "    </tr>\n",
       "    <tr>\n",
       "      <th>1</th>\n",
       "      <td>2</td>\n",
       "      <td>1</td>\n",
       "      <td>19</td>\n",
       "      <td>16</td>\n",
       "      <td>1</td>\n",
       "      <td>355</td>\n",
       "    </tr>\n",
       "    <tr>\n",
       "      <th>2</th>\n",
       "      <td>1</td>\n",
       "      <td>1</td>\n",
       "      <td>3</td>\n",
       "      <td>3</td>\n",
       "      <td>1</td>\n",
       "      <td>39</td>\n",
       "    </tr>\n",
       "    <tr>\n",
       "      <th>3</th>\n",
       "      <td>2</td>\n",
       "      <td>1</td>\n",
       "      <td>44</td>\n",
       "      <td>39</td>\n",
       "      <td>1</td>\n",
       "      <td>209</td>\n",
       "    </tr>\n",
       "    <tr>\n",
       "      <th>4</th>\n",
       "      <td>2</td>\n",
       "      <td>1</td>\n",
       "      <td>39</td>\n",
       "      <td>41</td>\n",
       "      <td>1</td>\n",
       "      <td>293</td>\n",
       "    </tr>\n",
       "  </tbody>\n",
       "</table>\n",
       "</div>"
      ],
      "text/plain": [
       "   rank  discipline  yrs.since.phd  yrs.service  sex  salary\n",
       "0     2           1             18           18    1     289\n",
       "1     2           1             19           16    1     355\n",
       "2     1           1              3            3    1      39\n",
       "3     2           1             44           39    1     209\n",
       "4     2           1             39           41    1     293"
      ]
     },
     "execution_count": 25,
     "metadata": {},
     "output_type": "execute_result"
    }
   ],
   "source": [
    "data.head()"
   ]
  },
  {
   "cell_type": "markdown",
   "id": "8717048a",
   "metadata": {},
   "source": [
    "# Feature and Label Seperation"
   ]
  },
  {
   "cell_type": "code",
   "execution_count": 26,
   "id": "a38959ad",
   "metadata": {},
   "outputs": [],
   "source": [
    "x=data.iloc[:,0:-1]\n",
    "y=data.iloc[:,-1]"
   ]
  },
  {
   "cell_type": "code",
   "execution_count": 27,
   "id": "547793ae",
   "metadata": {},
   "outputs": [
    {
     "name": "stdout",
     "output_type": "stream",
     "text": [
      "(397, 5)\n",
      "(397,)\n"
     ]
    }
   ],
   "source": [
    "print(x.shape)\n",
    "print(y.shape)"
   ]
  },
  {
   "cell_type": "markdown",
   "id": "2da75ec7",
   "metadata": {},
   "source": [
    "# check skewness"
   ]
  },
  {
   "cell_type": "code",
   "execution_count": 28,
   "id": "39467351",
   "metadata": {},
   "outputs": [
    {
     "data": {
      "text/plain": [
       "rank            -1.151164\n",
       "discipline      -0.177684\n",
       "yrs.since.phd    0.275948\n",
       "yrs.service      0.552780\n",
       "sex             -2.709958\n",
       "dtype: float64"
      ]
     },
     "execution_count": 28,
     "metadata": {},
     "output_type": "execute_result"
    }
   ],
   "source": [
    "x.skew()"
   ]
  },
  {
   "cell_type": "markdown",
   "id": "c9eab7f7",
   "metadata": {},
   "source": [
    "# Remove Skewness"
   ]
  },
  {
   "cell_type": "code",
   "execution_count": 29,
   "id": "01d2e1fd",
   "metadata": {},
   "outputs": [],
   "source": [
    "#remove skewness using power transform\n",
    "\n",
    "from sklearn.preprocessing import power_transform\n",
    "data_skew=power_transform(x)\n",
    "\n",
    "data_skew=pd.DataFrame(data_skew,columns=x.columns)"
   ]
  },
  {
   "cell_type": "code",
   "execution_count": 30,
   "id": "aa68ebcb",
   "metadata": {},
   "outputs": [
    {
     "data": {
      "text/plain": [
       "<AxesSubplot:xlabel='yrs.service', ylabel='Density'>"
      ]
     },
     "execution_count": 30,
     "metadata": {},
     "output_type": "execute_result"
    },
    {
     "data": {
      "image/png": "[encoded data removed]",
      "text/plain": [
       "<Figure size 432x288 with 1 Axes>"
      ]
     },
     "metadata": {
      "needs_background": "light"
     },
     "output_type": "display_data"
    }
   ],
   "source": [
    "sns.distplot(data_skew[\"yrs.service\"])"
   ]
  },
  {
   "cell_type": "markdown",
   "id": "ebac8524",
   "metadata": {},
   "source": [
    "Checking Skewness after power transforms and found all columns skewness is within range of -0.5 to +0.5"
   ]
  },
  {
   "cell_type": "code",
   "execution_count": 31,
   "id": "070e0bd4",
   "metadata": {},
   "outputs": [],
   "source": [
    "data=data_skew\n",
    "x=data_skew"
   ]
  },
  {
   "cell_type": "markdown",
   "id": "6763ffea",
   "metadata": {},
   "source": [
    "# Outlier Detection"
   ]
  },
  {
   "cell_type": "code",
   "execution_count": 32,
   "id": "66e465b5",
   "metadata": {},
   "outputs": [
    {
     "data": {
      "image/png": "[encoded data removed]",
      "text/plain": [
       "<Figure size 1440x576 with 1 Axes>"
      ]
     },
     "metadata": {
      "needs_background": "light"
     },
     "output_type": "display_data"
    }
   ],
   "source": [
    "x.boxplot(figsize=[20,8])\n",
    "plt.subplots_adjust(bottom=0.25)\n",
    "plt.show()"
   ]
  },
  {
   "cell_type": "markdown",
   "id": "fa8c9642",
   "metadata": {},
   "source": [
    "Checking for Outliers through box plot graphs and found no outliers\n",
    "\n"
   ]
  },
  {
   "cell_type": "markdown",
   "id": "6af5859a",
   "metadata": {},
   "source": [
    "# Multicollinerity"
   ]
  },
  {
   "cell_type": "code",
   "execution_count": 33,
   "id": "be037224",
   "metadata": {},
   "outputs": [],
   "source": [
    "from statsmodels.stats.outliers_influence import variance_inflation_factor\n",
    "def cal_vif(x):\n",
    "    vif=pd.DataFrame()\n",
    "    vif['variables']=x.columns\n",
    "    vif[\"vif_factor\"]=[variance_inflation_factor(x.values,i) for i in range (x.shape[1])]\n",
    "    return(vif)"
   ]
  },
  {
   "cell_type": "code",
   "execution_count": 34,
   "id": "5cbe65a7",
   "metadata": {},
   "outputs": [
    {
     "data": {
      "text/html": [
       "<div>\n",
       "<style scoped>\n",
       "    .dataframe tbody tr th:only-of-type {\n",
       "        vertical-align: middle;\n",
       "    }\n",
       "\n",
       "    .dataframe tbody tr th {\n",
       "        vertical-align: top;\n",
       "    }\n",
       "\n",
       "    .dataframe thead th {\n",
       "        text-align: right;\n",
       "    }\n",
       "</style>\n",
       "<table border=\"1\" class=\"dataframe\">\n",
       "  <thead>\n",
       "    <tr style=\"text-align: right;\">\n",
       "      <th></th>\n",
       "      <th>variables</th>\n",
       "      <th>vif_factor</th>\n",
       "    </tr>\n",
       "  </thead>\n",
       "  <tbody>\n",
       "    <tr>\n",
       "      <th>0</th>\n",
       "      <td>rank</td>\n",
       "      <td>1.728339</td>\n",
       "    </tr>\n",
       "    <tr>\n",
       "      <th>1</th>\n",
       "      <td>discipline</td>\n",
       "      <td>1.062695</td>\n",
       "    </tr>\n",
       "    <tr>\n",
       "      <th>2</th>\n",
       "      <td>yrs.since.phd</td>\n",
       "      <td>6.778240</td>\n",
       "    </tr>\n",
       "    <tr>\n",
       "      <th>3</th>\n",
       "      <td>yrs.service</td>\n",
       "      <td>5.815718</td>\n",
       "    </tr>\n",
       "    <tr>\n",
       "      <th>4</th>\n",
       "      <td>sex</td>\n",
       "      <td>1.028191</td>\n",
       "    </tr>\n",
       "  </tbody>\n",
       "</table>\n",
       "</div>"
      ],
      "text/plain": [
       "       variables  vif_factor\n",
       "0           rank    1.728339\n",
       "1     discipline    1.062695\n",
       "2  yrs.since.phd    6.778240\n",
       "3    yrs.service    5.815718\n",
       "4            sex    1.028191"
      ]
     },
     "execution_count": 34,
     "metadata": {},
     "output_type": "execute_result"
    }
   ],
   "source": [
    "cal_vif(x)"
   ]
  },
  {
   "cell_type": "markdown",
   "id": "5c088016",
   "metadata": {},
   "source": [
    "#no any column are suffering from multicollinerity"
   ]
  },
  {
   "cell_type": "markdown",
   "id": "84a5fb2d",
   "metadata": {},
   "source": [
    "# Data Standardization"
   ]
  },
  {
   "cell_type": "code",
   "execution_count": 35,
   "id": "ce41f16e",
   "metadata": {},
   "outputs": [
    {
     "data": {
      "text/plain": [
       "array([[ 0.69005113,  0.91540317, -0.12440609,  0.2508851 ,  0.3300584 ],\n",
       "       [ 0.69005113,  0.91540317, -0.0464977 ,  0.10342918,  0.3300584 ],\n",
       "       [-1.09153554,  0.91540317, -1.63248716, -1.29152874,  0.3300584 ],\n",
       "       ...,\n",
       "       [ 0.69005113, -1.09241483,  1.39846247,  0.7067226 ,  0.3300584 ],\n",
       "       [ 0.69005113, -1.09241483,  0.32207045,  0.02597293,  0.3300584 ],\n",
       "       [-1.09153554, -1.09241483, -1.13123842, -1.12866696,  0.3300584 ]])"
      ]
     },
     "execution_count": 35,
     "metadata": {},
     "output_type": "execute_result"
    }
   ],
   "source": [
    "# Scaling the Feature data\n",
    "\n",
    "from sklearn.preprocessing import StandardScaler\n",
    "SC=StandardScaler()\n",
    "x=SC.fit_transform(x)\n",
    "x"
   ]
  },
  {
   "cell_type": "markdown",
   "id": "6c6b9098",
   "metadata": {},
   "source": [
    "# Train Test Split"
   ]
  },
  {
   "cell_type": "code",
   "execution_count": 36,
   "id": "3468d07f",
   "metadata": {},
   "outputs": [],
   "source": [
    "from sklearn.model_selection import train_test_split\n",
    "x_train, x_test, y_train, y_test = train_test_split(x,y, test_size = 0.20, random_state=100)"
   ]
  },
  {
   "cell_type": "code",
   "execution_count": 37,
   "id": "75d12b58",
   "metadata": {},
   "outputs": [
    {
     "name": "stdout",
     "output_type": "stream",
     "text": [
      "shape of x_train=  (317, 5)\n",
      "shape of y_train=  (317,)\n",
      "shape of x_test=  (80, 5)\n",
      "shape of y_test=  (80,)\n"
     ]
    }
   ],
   "source": [
    "print(\"shape of x_train= \",x_train.shape)\n",
    "print(\"shape of y_train= \",y_train.shape)\n",
    "print(\"shape of x_test= \",x_test.shape)\n",
    "print(\"shape of y_test= \",y_test.shape)"
   ]
  },
  {
   "cell_type": "markdown",
   "id": "a39a023b",
   "metadata": {},
   "source": [
    "# FINDING BEST RANDOM STATE"
   ]
  },
  {
   "cell_type": "code",
   "execution_count": 38,
   "id": "39d13997",
   "metadata": {},
   "outputs": [
    {
     "name": "stdout",
     "output_type": "stream",
     "text": [
      "testing accuracy  0.5868156048467925  random state = 0\n",
      " max accuracy score 0.5868156048467925  max random state = 0\n",
      "testing accuracy  0.4945295040528511  random state = 1\n",
      "testing accuracy  0.4751495390475021  random state = 2\n",
      "testing accuracy  0.4386994514066458  random state = 3\n",
      "testing accuracy  0.45698407623061044  random state = 4\n",
      "testing accuracy  0.33142550443331686  random state = 5\n",
      "testing accuracy  0.44758700326564604  random state = 6\n",
      "testing accuracy  0.5438423856670958  random state = 7\n",
      "testing accuracy  0.36227780145724997  random state = 8\n",
      "testing accuracy  0.4303830178463802  random state = 9\n",
      "testing accuracy  0.4406364940274087  random state = 10\n",
      "testing accuracy  0.401069630016454  random state = 11\n",
      "testing accuracy  0.4589583051281648  random state = 12\n",
      "testing accuracy  0.42696583236598074  random state = 13\n",
      "testing accuracy  0.21858191842719987  random state = 14\n",
      "testing accuracy  0.40653444501377656  random state = 15\n",
      "testing accuracy  0.440527336635661  random state = 16\n",
      "testing accuracy  0.45464621426282925  random state = 17\n",
      "testing accuracy  0.5075296851862291  random state = 18\n",
      "testing accuracy  0.49613926989680834  random state = 19\n",
      "testing accuracy  0.4722116211663514  random state = 20\n",
      "testing accuracy  0.4878841565052072  random state = 21\n",
      "testing accuracy  0.4301050580891306  random state = 22\n",
      "testing accuracy  0.3414102691893046  random state = 23\n",
      "testing accuracy  0.3500696519219464  random state = 24\n",
      "testing accuracy  0.46003253542705225  random state = 25\n",
      "testing accuracy  0.5173534149583553  random state = 26\n",
      "testing accuracy  0.38776468800632224  random state = 27\n",
      "testing accuracy  0.4036482630571917  random state = 28\n",
      "testing accuracy  0.4056735825099107  random state = 29\n",
      "testing accuracy  0.4345649175966626  random state = 30\n",
      "testing accuracy  0.40710342585725146  random state = 31\n",
      "testing accuracy  0.4456659473338772  random state = 32\n",
      "testing accuracy  0.3984619951083358  random state = 33\n",
      "testing accuracy  0.4677797628540964  random state = 34\n",
      "testing accuracy  0.49049968276510514  random state = 35\n",
      "testing accuracy  0.3177440577619135  random state = 36\n",
      "testing accuracy  0.5450460926627538  random state = 37\n",
      "testing accuracy  0.39216342125846326  random state = 38\n",
      "testing accuracy  0.4742156892442828  random state = 39\n",
      "testing accuracy  0.4621804773695035  random state = 40\n",
      "testing accuracy  0.5381412988562686  random state = 41\n",
      "testing accuracy  0.32241036964397474  random state = 42\n",
      "testing accuracy  0.4244193466352191  random state = 43\n",
      "testing accuracy  0.42541396076957905  random state = 44\n",
      "testing accuracy  0.3019105252245625  random state = 45\n",
      "testing accuracy  0.49360999646736436  random state = 46\n",
      "testing accuracy  0.46078434758075537  random state = 47\n",
      "testing accuracy  0.4445704727504056  random state = 48\n",
      "testing accuracy  0.44175648175003934  random state = 49\n",
      "testing accuracy  0.40602747366917735  random state = 50\n",
      "testing accuracy  0.4896035683726645  random state = 51\n",
      "testing accuracy  0.46583199848079226  random state = 52\n",
      "testing accuracy  0.3633799343785067  random state = 53\n",
      "testing accuracy  0.4070002945471207  random state = 54\n",
      "testing accuracy  0.3490400496664279  random state = 55\n",
      "testing accuracy  0.401607313703393  random state = 56\n",
      "testing accuracy  0.48195610147522616  random state = 57\n",
      "testing accuracy  0.4350086991163713  random state = 58\n",
      "testing accuracy  0.5164916459236066  random state = 59\n",
      "testing accuracy  0.5785508483159122  random state = 60\n",
      "testing accuracy  0.48801184014192456  random state = 61\n",
      "testing accuracy  0.4933058888515319  random state = 62\n",
      "testing accuracy  0.481289555460904  random state = 63\n",
      "testing accuracy  0.5601239257331052  random state = 64\n",
      "testing accuracy  0.4004144667299234  random state = 65\n",
      "testing accuracy  0.5006056550679798  random state = 66\n",
      "testing accuracy  0.5325868509805836  random state = 67\n",
      "testing accuracy  0.29365938438003514  random state = 68\n",
      "testing accuracy  0.505835350749615  random state = 69\n",
      "testing accuracy  0.28230456085442224  random state = 70\n",
      "testing accuracy  0.4536147948917333  random state = 71\n",
      "testing accuracy  0.495290508973221  random state = 72\n",
      "testing accuracy  0.5262983937690987  random state = 73\n",
      "testing accuracy  0.5159922416792588  random state = 74\n",
      "testing accuracy  0.5107542024650125  random state = 75\n",
      "testing accuracy  0.33101822574258766  random state = 76\n",
      "testing accuracy  0.4634243762532446  random state = 77\n",
      "testing accuracy  0.4613255002801231  random state = 78\n",
      "testing accuracy  0.5845073781539281  random state = 79\n",
      "testing accuracy  0.5725562479483627  random state = 80\n",
      "testing accuracy  0.5194471403542542  random state = 81\n",
      "testing accuracy  0.4211318878996513  random state = 82\n",
      "testing accuracy  0.4414985925032324  random state = 83\n",
      "testing accuracy  0.481495719338229  random state = 84\n",
      "testing accuracy  0.4644857686524335  random state = 85\n",
      "testing accuracy  0.46569992933197746  random state = 86\n",
      "testing accuracy  0.3882143543175529  random state = 87\n",
      "testing accuracy  0.5353511079262272  random state = 88\n",
      "testing accuracy  0.36248191025075427  random state = 89\n",
      "testing accuracy  0.4835794948488169  random state = 90\n",
      "testing accuracy  0.4440654811320228  random state = 91\n",
      "testing accuracy  0.49440216729015385  random state = 92\n",
      "testing accuracy  0.33801729651423595  random state = 93\n",
      "testing accuracy  0.3089926168006668  random state = 94\n",
      "testing accuracy  0.4226143479424824  random state = 95\n",
      "testing accuracy  0.5223779736157892  random state = 96\n",
      "testing accuracy  0.45190682749509936  random state = 97\n",
      "testing accuracy  0.5323580942333035  random state = 98\n",
      "testing accuracy  0.46770257153915207  random state = 99\n"
     ]
    }
   ],
   "source": [
    "from sklearn.metrics import r2_score,mean_squared_error\n",
    "from sklearn.linear_model import LinearRegression, Ridge, Lasso\n",
    "max_accu=0 #maxi accuracy define as 0\n",
    "max_rs=0# best random state for which max accurecy achived\n",
    "\n",
    "lr=LinearRegression()\n",
    " \n",
    "for i in range(0,100):\n",
    "    x_train, x_test, y_train, y_test = train_test_split( x, y, test_size=.25, random_state=i)\n",
    "    \n",
    "    lr.fit(x_train,y_train)\n",
    "\n",
    "    predlr=lr.predict(x_test)# predicted target variable\n",
    "    \n",
    "    acc=r2_score(y_test,predlr)# accuracy score\n",
    "    \n",
    "    print(\"testing accuracy \",acc, \" random state =\", i)\n",
    "    if acc>max_accu:\n",
    "        max_accu=acc\n",
    "        max_rs=i\n",
    "        print(\" max accuracy score\",acc, \" max random state =\",i)"
   ]
  },
  {
   "cell_type": "code",
   "execution_count": 39,
   "id": "1d5db145",
   "metadata": {},
   "outputs": [
    {
     "name": "stdout",
     "output_type": "stream",
     "text": [
      " max r2 score 0.5868156048467925  max random state = 0\n"
     ]
    }
   ],
   "source": [
    "print(\" max r2 score\",max_accu, \" max random state =\", max_rs)"
   ]
  },
  {
   "cell_type": "markdown",
   "id": "a894a833",
   "metadata": {},
   "source": [
    "# Model Building"
   ]
  },
  {
   "cell_type": "markdown",
   "id": "19219891",
   "metadata": {},
   "source": [
    "Linear Regression Model Build:"
   ]
  },
  {
   "cell_type": "code",
   "execution_count": 40,
   "id": "0449f10c",
   "metadata": {},
   "outputs": [
    {
     "name": "stdout",
     "output_type": "stream",
     "text": [
      "58.68156048467925\n",
      "3915.99886129197\n",
      "62.57794229033078\n"
     ]
    }
   ],
   "source": [
    "x_train, x_test, y_train, y_test = train_test_split( x, y, test_size=.25, random_state=0)\n",
    "lr = LinearRegression()\n",
    "lr.fit(x_train,y_train)\n",
    "predlr = lr.predict(x_test)\n",
    "print(r2_score(y_test,predlr)*100)\n",
    "print(mean_squared_error(y_test,predlr))\n",
    "print(np.sqrt(mean_squared_error(y_test,predlr)))"
   ]
  },
  {
   "cell_type": "code",
   "execution_count": 41,
   "id": "186cf93d",
   "metadata": {},
   "outputs": [
    {
     "name": "stdout",
     "output_type": "stream",
     "text": [
      " At cv = 4\n",
      "Cross validation score for Linear Regression Model is  43.40976744449064\n",
      " At cv = 5\n",
      "Cross validation score for Linear Regression Model is  41.401192543453014\n",
      " At cv = 6\n",
      "Cross validation score for Linear Regression Model is  44.03959115258838\n",
      " At cv = 7\n",
      "Cross validation score for Linear Regression Model is  43.10689374145827\n",
      " At cv = 8\n",
      "Cross validation score for Linear Regression Model is  44.15432205095243\n",
      " At cv = 9\n",
      "Cross validation score for Linear Regression Model is  41.93177004045823\n"
     ]
    }
   ],
   "source": [
    "from sklearn.model_selection import cross_val_score\n",
    "for j in range(4,10):\n",
    "    scr = cross_val_score(lr,x,y,cv=j)\n",
    "    print(\" At cv =\",j)\n",
    "    print('Cross validation score for Linear Regression Model is ',scr.mean()*100)"
   ]
  },
  {
   "cell_type": "markdown",
   "id": "768464c6",
   "metadata": {},
   "source": [
    "# Here we have solve the problem of overfitting and underfittings"
   ]
  },
  {
   "cell_type": "code",
   "execution_count": 42,
   "id": "3418ea4e",
   "metadata": {},
   "outputs": [
    {
     "data": {
      "image/png": "[encoded data removed]",
      "text/plain": [
       "<Figure size 720x504 with 1 Axes>"
      ]
     },
     "metadata": {
      "needs_background": "light"
     },
     "output_type": "display_data"
    }
   ],
   "source": [
    "plt.figure(figsize=(10,7))\n",
    "plt.scatter(x=y_test,y=predlr,color=\"b\")\n",
    "plt.plot(y_test,y_test,color=\"r\")\n",
    "plt.xlabel(\"Actual salary\",fontsize=14)\n",
    "plt.ylabel(\"Predicted salary\",fontsize=14)\n",
    "plt.title(\"LINEAR REGRESSION\")\n",
    "plt.savefig('lr.png')\n",
    "plt.show()"
   ]
  },
  {
   "cell_type": "markdown",
   "id": "abb4c658",
   "metadata": {},
   "source": [
    "OBSERVATION\n",
    "\n",
    "best fit line covering most of the data point which show not good fit of over model"
   ]
  },
  {
   "cell_type": "markdown",
   "id": "afabf25c",
   "metadata": {},
   "source": [
    "# Regulerization :\n",
    "Use Ridge and Lasso Regression to control underfitting and overfitting\n",
    "\n",
    "Ridge Regression Model Build:"
   ]
  },
  {
   "cell_type": "code",
   "execution_count": 43,
   "id": "75658581",
   "metadata": {},
   "outputs": [
    {
     "name": "stdout",
     "output_type": "stream",
     "text": [
      "58.69630252203041\n",
      "3914.601669090197\n",
      "62.566777678654645\n"
     ]
    }
   ],
   "source": [
    "r = Ridge()\n",
    "r.fit(x_train,y_train)\n",
    "predr = r.predict(x_test)\n",
    "print(r2_score(y_test,predr)*100)\n",
    "print(mean_squared_error(y_test,predr))\n",
    "print(np.sqrt(mean_squared_error(y_test,predr)))"
   ]
  },
  {
   "cell_type": "code",
   "execution_count": 44,
   "id": "7378de3a",
   "metadata": {},
   "outputs": [
    {
     "name": "stdout",
     "output_type": "stream",
     "text": [
      " At cv = 4\n",
      "Cross validation score for Ridge Regression Model is  43.47992378150708\n",
      " At cv = 5\n",
      "Cross validation score for Ridge Regression Model is  41.449670812452496\n",
      " At cv = 6\n",
      "Cross validation score for Ridge Regression Model is  44.06996449822431\n",
      " At cv = 7\n",
      "Cross validation score for Ridge Regression Model is  43.12852558726326\n",
      " At cv = 8\n",
      "Cross validation score for Ridge Regression Model is  44.18591271961132\n",
      " At cv = 9\n",
      "Cross validation score for Ridge Regression Model is  41.955715088369516\n"
     ]
    }
   ],
   "source": [
    "for j in range(4,10):\n",
    "    scr = cross_val_score(r,x,y,cv=j)\n",
    "    print(\" At cv =\",j)\n",
    "    print('Cross validation score for Ridge Regression Model is ',scr.mean()*100)"
   ]
  },
  {
   "cell_type": "code",
   "execution_count": 45,
   "id": "a01d4347",
   "metadata": {},
   "outputs": [
    {
     "data": {
      "image/png": "[encoded data removed]",
      "text/plain": [
       "<Figure size 720x504 with 1 Axes>"
      ]
     },
     "metadata": {
      "needs_background": "light"
     },
     "output_type": "display_data"
    }
   ],
   "source": [
    "plt.figure(figsize=(10,7))\n",
    "plt.scatter(x=y_test,y=predr,color=\"b\")\n",
    "plt.plot(y_test,y_test,color=\"r\")\n",
    "plt.xlabel(\"Actual salary\",fontsize=14)\n",
    "plt.ylabel(\"Predicted salary\",fontsize=14)\n",
    "plt.title(\"LINEAR REGRESSION for Rdge\")\n",
    "plt.savefig('lr.png')\n",
    "plt.show()"
   ]
  },
  {
   "cell_type": "markdown",
   "id": "b1dd8aa6",
   "metadata": {},
   "source": [
    "# Lasso Regression Model Build:"
   ]
  },
  {
   "cell_type": "code",
   "execution_count": 46,
   "id": "c31e518e",
   "metadata": {},
   "outputs": [
    {
     "name": "stdout",
     "output_type": "stream",
     "text": [
      "58.24262077443183\n",
      "3957.5998371678224\n",
      "62.90945745408891\n"
     ]
    }
   ],
   "source": [
    "l = Lasso()\n",
    "l.fit(x_train,y_train)\n",
    "predl = l.predict(x_test)\n",
    "print(r2_score(y_test,predl)*100)\n",
    "print(mean_squared_error(y_test,predl))\n",
    "print(np.sqrt(mean_squared_error(y_test,predl)))"
   ]
  },
  {
   "cell_type": "code",
   "execution_count": 47,
   "id": "e840d8ad",
   "metadata": {},
   "outputs": [
    {
     "name": "stdout",
     "output_type": "stream",
     "text": [
      " At cv = 4\n",
      "Cross validation score for LassoRegression Model is  44.05397031091079\n",
      " At cv = 5\n",
      "Cross validation score for LassoRegression Model is  41.96968475038631\n",
      " At cv = 6\n",
      "Cross validation score for LassoRegression Model is  44.525540535512135\n",
      " At cv = 7\n",
      "Cross validation score for LassoRegression Model is  43.47431577343943\n",
      " At cv = 8\n",
      "Cross validation score for LassoRegression Model is  44.680385448792016\n",
      " At cv = 9\n",
      "Cross validation score for LassoRegression Model is  42.31615066646895\n"
     ]
    }
   ],
   "source": [
    "for j in range(4,10):\n",
    "    scr = cross_val_score(l,x,y,cv=j)\n",
    "    print(\" At cv =\",j)\n",
    "    print('Cross validation score for LassoRegression Model is ',scr.mean()*100)"
   ]
  },
  {
   "cell_type": "code",
   "execution_count": 48,
   "id": "b1682604",
   "metadata": {},
   "outputs": [
    {
     "data": {
      "image/png": "[encoded data removed]",
      "text/plain": [
       "<Figure size 720x504 with 1 Axes>"
      ]
     },
     "metadata": {
      "needs_background": "light"
     },
     "output_type": "display_data"
    }
   ],
   "source": [
    "plt.figure(figsize=(10,7))\n",
    "plt.scatter(x=y_test,y=predl,color=\"b\")\n",
    "plt.plot(y_test,y_test,color=\"r\")\n",
    "plt.xlabel(\"Actual salary\",fontsize=14)\n",
    "plt.ylabel(\"Predicted salary\",fontsize=14)\n",
    "plt.title(\"LINEAR REGRESSION for Lasso \")\n",
    "plt.savefig('lr.png')\n",
    "plt.show()"
   ]
  },
  {
   "cell_type": "markdown",
   "id": "bb7fdbcd",
   "metadata": {},
   "source": [
    "# Random Forest Regressor Model Build:"
   ]
  },
  {
   "cell_type": "code",
   "execution_count": 49,
   "id": "bbe4de2a",
   "metadata": {},
   "outputs": [
    {
     "name": "stdout",
     "output_type": "stream",
     "text": [
      "r2 score=  37.27391466523836\n",
      "MSE=  5944.931164526404\n",
      "RMSE=  77.10337972181507\n"
     ]
    }
   ],
   "source": [
    "from sklearn.ensemble import RandomForestRegressor\n",
    "rf = RandomForestRegressor()\n",
    "rf.fit(x_train,y_train)\n",
    "predrf = rf.predict(x_test)\n",
    "print(\"r2 score= \",r2_score(y_test,predrf)*100)\n",
    "print(\"MSE= \",mean_squared_error(y_test,predrf))\n",
    "print(\"RMSE= \",np.sqrt(mean_squared_error(y_test,predrf)))"
   ]
  },
  {
   "cell_type": "code",
   "execution_count": 50,
   "id": "fdd01cb2",
   "metadata": {},
   "outputs": [
    {
     "name": "stdout",
     "output_type": "stream",
     "text": [
      " At cv = 4\n",
      "Cross validation score for RandomForestRegresso Model is  41.709314443810875\n",
      " At cv = 5\n",
      "Cross validation score for RandomForestRegresso Model is  31.81304812762412\n",
      " At cv = 6\n",
      "Cross validation score for RandomForestRegresso Model is  40.54035681192732\n",
      " At cv = 7\n",
      "Cross validation score for RandomForestRegresso Model is  35.89476835220643\n",
      " At cv = 8\n",
      "Cross validation score for RandomForestRegresso Model is  38.965475682737186\n",
      " At cv = 9\n",
      "Cross validation score for RandomForestRegresso Model is  34.1332663708373\n"
     ]
    }
   ],
   "source": [
    "for j in range(4,10):\n",
    "    scr = cross_val_score(rf,x,y,cv=j)\n",
    "    print(\" At cv =\",j)\n",
    "    print('Cross validation score for RandomForestRegresso Model is ',scr.mean()*100)"
   ]
  },
  {
   "cell_type": "markdown",
   "id": "f5e91a86",
   "metadata": {},
   "source": [
    "# choosing best model\n",
    "Random Forest Regressor Model is our best model:\n",
    "\n",
    "minimum difference between cross validation and r2 score\n",
    "\n",
    "\n",
    "Lenear Regression graph for Random Forest Regressor Model"
   ]
  },
  {
   "cell_type": "code",
   "execution_count": 51,
   "id": "78c3fba9",
   "metadata": {},
   "outputs": [
    {
     "data": {
      "image/png": "[encoded data removed]",
      "text/plain": [
       "<Figure size 720x504 with 1 Axes>"
      ]
     },
     "metadata": {
      "needs_background": "light"
     },
     "output_type": "display_data"
    }
   ],
   "source": [
    "plt.figure(figsize=(10,7))\n",
    "plt.scatter(x=y_test,y=predrf,color=\"b\")\n",
    "plt.plot(y_test,y_test,color=\"r\")\n",
    "plt.xlabel(\"Actual salary\",fontsize=14)\n",
    "plt.ylabel(\"Predicted salary\",fontsize=14)\n",
    "plt.title(\"LINEAR REGRESSION for Random Forest\")\n",
    "plt.savefig('lr.png')\n",
    "plt.show()"
   ]
  },
  {
   "cell_type": "markdown",
   "id": "7f95ed8b",
   "metadata": {},
   "source": [
    "# Compair All Model Performance"
   ]
  },
  {
   "cell_type": "code",
   "execution_count": 56,
   "id": "cdfce59d",
   "metadata": {},
   "outputs": [
    {
     "data": {
      "text/html": [
       "<div>\n",
       "<style scoped>\n",
       "    .dataframe tbody tr th:only-of-type {\n",
       "        vertical-align: middle;\n",
       "    }\n",
       "\n",
       "    .dataframe tbody tr th {\n",
       "        vertical-align: top;\n",
       "    }\n",
       "\n",
       "    .dataframe thead th {\n",
       "        text-align: right;\n",
       "    }\n",
       "</style>\n",
       "<table border=\"1\" class=\"dataframe\">\n",
       "  <thead>\n",
       "    <tr style=\"text-align: right;\">\n",
       "      <th></th>\n",
       "      <th>Model</th>\n",
       "      <th>R2 Score</th>\n",
       "      <th>CV score</th>\n",
       "      <th>diff bet CVscore $ r2 score</th>\n",
       "    </tr>\n",
       "  </thead>\n",
       "  <tbody>\n",
       "    <tr>\n",
       "      <th>0</th>\n",
       "      <td>Linear Regression</td>\n",
       "      <td>58</td>\n",
       "      <td>44</td>\n",
       "      <td>14</td>\n",
       "    </tr>\n",
       "    <tr>\n",
       "      <th>1</th>\n",
       "      <td>Ridge Regression</td>\n",
       "      <td>58</td>\n",
       "      <td>44</td>\n",
       "      <td>14</td>\n",
       "    </tr>\n",
       "    <tr>\n",
       "      <th>2</th>\n",
       "      <td>Lasso Regression</td>\n",
       "      <td>58</td>\n",
       "      <td>44</td>\n",
       "      <td>14</td>\n",
       "    </tr>\n",
       "    <tr>\n",
       "      <th>3</th>\n",
       "      <td>RandomForest Regressor</td>\n",
       "      <td>37</td>\n",
       "      <td>40</td>\n",
       "      <td>3</td>\n",
       "    </tr>\n",
       "  </tbody>\n",
       "</table>\n",
       "</div>"
      ],
      "text/plain": [
       "                    Model  R2 Score  CV score  diff bet CVscore $ r2 score\n",
       "0       Linear Regression        58        44                           14\n",
       "1        Ridge Regression        58        44                           14\n",
       "2        Lasso Regression        58        44                           14\n",
       "3  RandomForest Regressor        37        40                            3"
      ]
     },
     "execution_count": 56,
     "metadata": {},
     "output_type": "execute_result"
    }
   ],
   "source": [
    "results = pd.DataFrame({\n",
    "    'Model': ['Linear Regression',\"Ridge Regression\", 'Lasso Regression','RandomForest Regressor'],\n",
    "    'R2 Score': [58,58,58,37],\n",
    "     \"CV score\":[44,44,44,40],\n",
    "     \"diff bet CVscore $ r2 score\":[14,14,14,3]})\n",
    "results"
   ]
  },
  {
   "cell_type": "markdown",
   "id": "80d2cb5e",
   "metadata": {},
   "source": [
    "# Hyper Parameter Tuning For Random State"
   ]
  },
  {
   "cell_type": "code",
   "execution_count": 53,
   "id": "cef3c06a",
   "metadata": {},
   "outputs": [
    {
     "name": "stdout",
     "output_type": "stream",
     "text": [
      "{'criterion': 'mae', 'max_features': 'log2'}\n"
     ]
    }
   ],
   "source": [
    "from sklearn.model_selection import GridSearchCV\n",
    "param={\"criterion\":['mse','mae'],\"max_features\":[\"auto\",\"sqrt\",\"log2\"]}\n",
    "rf= RandomForestRegressor()\n",
    "grd=GridSearchCV(rf,param)\n",
    "grd.fit( x_train,y_train)\n",
    "print(grd.best_params_)"
   ]
  },
  {
   "cell_type": "markdown",
   "id": "df941cea",
   "metadata": {},
   "source": [
    "# Obtaining the Best Parameters for Hyper parameters tuning"
   ]
  },
  {
   "cell_type": "code",
   "execution_count": 54,
   "id": "62ab03ae",
   "metadata": {},
   "outputs": [
    {
     "name": "stdout",
     "output_type": "stream",
     "text": [
      "r2 score=  45.043071750324614\n",
      "Cross validation score for RandomForestRegresso Model is  37.79098996614033\n",
      "MSE=  5208.60107425\n",
      "RMSE=  72.17063858834838\n"
     ]
    }
   ],
   "source": [
    "rf = RandomForestRegressor(criterion = 'mae', max_features= 'log2', random_state= 0)\n",
    "rf.fit(x_train,y_train)\n",
    "predrf = rf.predict(x_test)\n",
    "scr = cross_val_score(rf,x,y,cv=5)\n",
    "print(\"r2 score= \",r2_score(y_test,predrf)*100)\n",
    "print('Cross validation score for RandomForestRegresso Model is ',scr.mean()*100)\n",
    "print(\"MSE= \",mean_squared_error(y_test,predrf))\n",
    "print(\"RMSE= \",np.sqrt(mean_squared_error(y_test,predrf)))"
   ]
  },
  {
   "cell_type": "markdown",
   "id": "d55eefce",
   "metadata": {},
   "source": [
    "# save model"
   ]
  },
  {
   "cell_type": "code",
   "execution_count": 57,
   "id": "2e8a3927",
   "metadata": {},
   "outputs": [],
   "source": [
    "import pickle\n",
    "\n",
    "filename=\"salary.pkl\"\n",
    "pickle.dump(rf,open(filename,\"wb\"))"
   ]
  },
  {
   "cell_type": "markdown",
   "id": "e26995d8",
   "metadata": {},
   "source": [
    "# load model"
   ]
  },
  {
   "cell_type": "code",
   "execution_count": 58,
   "id": "76e9805a",
   "metadata": {},
   "outputs": [
    {
     "name": "stdout",
     "output_type": "stream",
     "text": [
      "45.043071750324614\n"
     ]
    }
   ],
   "source": [
    "loaded_model=pickle.load(open(\"salary.pkl\",\"rb\"))\n",
    "result=loaded_model.score(x_test,y_test)\n",
    "print(result*100)"
   ]
  },
  {
   "cell_type": "markdown",
   "id": "f24e477d",
   "metadata": {},
   "source": [
    "# conclusion"
   ]
  },
  {
   "cell_type": "code",
   "execution_count": 59,
   "id": "d1487fee",
   "metadata": {},
   "outputs": [],
   "source": [
    "conclusion=pd.DataFrame([loaded_model.predict(x_test)[:],predrf[:]],index=[\"predicted\",\"original\"])"
   ]
  },
  {
   "cell_type": "code",
   "execution_count": 60,
   "id": "472b1bbf",
   "metadata": {},
   "outputs": [
    {
     "data": {
      "text/html": [
       "<div>\n",
       "<style scoped>\n",
       "    .dataframe tbody tr th:only-of-type {\n",
       "        vertical-align: middle;\n",
       "    }\n",
       "\n",
       "    .dataframe tbody tr th {\n",
       "        vertical-align: top;\n",
       "    }\n",
       "\n",
       "    .dataframe thead th {\n",
       "        text-align: right;\n",
       "    }\n",
       "</style>\n",
       "<table border=\"1\" class=\"dataframe\">\n",
       "  <thead>\n",
       "    <tr style=\"text-align: right;\">\n",
       "      <th></th>\n",
       "      <th>0</th>\n",
       "      <th>1</th>\n",
       "      <th>2</th>\n",
       "      <th>3</th>\n",
       "      <th>4</th>\n",
       "      <th>5</th>\n",
       "      <th>6</th>\n",
       "      <th>7</th>\n",
       "      <th>8</th>\n",
       "      <th>9</th>\n",
       "      <th>...</th>\n",
       "      <th>90</th>\n",
       "      <th>91</th>\n",
       "      <th>92</th>\n",
       "      <th>93</th>\n",
       "      <th>94</th>\n",
       "      <th>95</th>\n",
       "      <th>96</th>\n",
       "      <th>97</th>\n",
       "      <th>98</th>\n",
       "      <th>99</th>\n",
       "    </tr>\n",
       "  </thead>\n",
       "  <tbody>\n",
       "    <tr>\n",
       "      <th>predicted</th>\n",
       "      <td>94.49</td>\n",
       "      <td>65.94</td>\n",
       "      <td>252.445</td>\n",
       "      <td>37.775</td>\n",
       "      <td>61.84</td>\n",
       "      <td>196.5</td>\n",
       "      <td>127.89</td>\n",
       "      <td>94.49</td>\n",
       "      <td>27.48</td>\n",
       "      <td>242.645</td>\n",
       "      <td>...</td>\n",
       "      <td>291.435</td>\n",
       "      <td>252.21</td>\n",
       "      <td>125.735</td>\n",
       "      <td>308.14</td>\n",
       "      <td>291.64</td>\n",
       "      <td>229.83</td>\n",
       "      <td>235.89</td>\n",
       "      <td>88.01</td>\n",
       "      <td>280.115</td>\n",
       "      <td>164.28</td>\n",
       "    </tr>\n",
       "    <tr>\n",
       "      <th>original</th>\n",
       "      <td>94.49</td>\n",
       "      <td>65.94</td>\n",
       "      <td>252.445</td>\n",
       "      <td>37.775</td>\n",
       "      <td>61.84</td>\n",
       "      <td>196.5</td>\n",
       "      <td>127.89</td>\n",
       "      <td>94.49</td>\n",
       "      <td>27.48</td>\n",
       "      <td>242.645</td>\n",
       "      <td>...</td>\n",
       "      <td>291.435</td>\n",
       "      <td>252.21</td>\n",
       "      <td>125.735</td>\n",
       "      <td>308.14</td>\n",
       "      <td>291.64</td>\n",
       "      <td>229.83</td>\n",
       "      <td>235.89</td>\n",
       "      <td>88.01</td>\n",
       "      <td>280.115</td>\n",
       "      <td>164.28</td>\n",
       "    </tr>\n",
       "  </tbody>\n",
       "</table>\n",
       "<p>2 rows × 100 columns</p>\n",
       "</div>"
      ],
      "text/plain": [
       "              0      1        2       3      4      5       6      7      8   \\\n",
       "predicted  94.49  65.94  252.445  37.775  61.84  196.5  127.89  94.49  27.48   \n",
       "original   94.49  65.94  252.445  37.775  61.84  196.5  127.89  94.49  27.48   \n",
       "\n",
       "                9   ...       90      91       92      93      94      95  \\\n",
       "predicted  242.645  ...  291.435  252.21  125.735  308.14  291.64  229.83   \n",
       "original   242.645  ...  291.435  252.21  125.735  308.14  291.64  229.83   \n",
       "\n",
       "               96     97       98      99  \n",
       "predicted  235.89  88.01  280.115  164.28  \n",
       "original   235.89  88.01  280.115  164.28  \n",
       "\n",
       "[2 rows x 100 columns]"
      ]
     },
     "execution_count": 60,
     "metadata": {},
     "output_type": "execute_result"
    }
   ],
   "source": [
    "conclusion"
   ]
  },
  {
   "cell_type": "code",
   "execution_count": 61,
   "id": "ec54ad30",
   "metadata": {},
   "outputs": [
    {
     "data": {
      "text/html": [
       "<div>\n",
       "<style scoped>\n",
       "    .dataframe tbody tr th:only-of-type {\n",
       "        vertical-align: middle;\n",
       "    }\n",
       "\n",
       "    .dataframe tbody tr th {\n",
       "        vertical-align: top;\n",
       "    }\n",
       "\n",
       "    .dataframe thead th {\n",
       "        text-align: right;\n",
       "    }\n",
       "</style>\n",
       "<table border=\"1\" class=\"dataframe\">\n",
       "  <thead>\n",
       "    <tr style=\"text-align: right;\">\n",
       "      <th></th>\n",
       "      <th>predicted</th>\n",
       "      <th>original</th>\n",
       "    </tr>\n",
       "  </thead>\n",
       "  <tbody>\n",
       "    <tr>\n",
       "      <th>0</th>\n",
       "      <td>94.490</td>\n",
       "      <td>94.490</td>\n",
       "    </tr>\n",
       "    <tr>\n",
       "      <th>1</th>\n",
       "      <td>65.940</td>\n",
       "      <td>65.940</td>\n",
       "    </tr>\n",
       "    <tr>\n",
       "      <th>2</th>\n",
       "      <td>252.445</td>\n",
       "      <td>252.445</td>\n",
       "    </tr>\n",
       "    <tr>\n",
       "      <th>3</th>\n",
       "      <td>37.775</td>\n",
       "      <td>37.775</td>\n",
       "    </tr>\n",
       "    <tr>\n",
       "      <th>4</th>\n",
       "      <td>61.840</td>\n",
       "      <td>61.840</td>\n",
       "    </tr>\n",
       "    <tr>\n",
       "      <th>...</th>\n",
       "      <td>...</td>\n",
       "      <td>...</td>\n",
       "    </tr>\n",
       "    <tr>\n",
       "      <th>95</th>\n",
       "      <td>229.830</td>\n",
       "      <td>229.830</td>\n",
       "    </tr>\n",
       "    <tr>\n",
       "      <th>96</th>\n",
       "      <td>235.890</td>\n",
       "      <td>235.890</td>\n",
       "    </tr>\n",
       "    <tr>\n",
       "      <th>97</th>\n",
       "      <td>88.010</td>\n",
       "      <td>88.010</td>\n",
       "    </tr>\n",
       "    <tr>\n",
       "      <th>98</th>\n",
       "      <td>280.115</td>\n",
       "      <td>280.115</td>\n",
       "    </tr>\n",
       "    <tr>\n",
       "      <th>99</th>\n",
       "      <td>164.280</td>\n",
       "      <td>164.280</td>\n",
       "    </tr>\n",
       "  </tbody>\n",
       "</table>\n",
       "<p>100 rows × 2 columns</p>\n",
       "</div>"
      ],
      "text/plain": [
       "    predicted  original\n",
       "0      94.490    94.490\n",
       "1      65.940    65.940\n",
       "2     252.445   252.445\n",
       "3      37.775    37.775\n",
       "4      61.840    61.840\n",
       "..        ...       ...\n",
       "95    229.830   229.830\n",
       "96    235.890   235.890\n",
       "97     88.010    88.010\n",
       "98    280.115   280.115\n",
       "99    164.280   164.280\n",
       "\n",
       "[100 rows x 2 columns]"
      ]
     },
     "execution_count": 61,
     "metadata": {},
     "output_type": "execute_result"
    }
   ],
   "source": [
    "conclusion.transpose()"
   ]
  },
  {
   "cell_type": "code",
   "execution_count": null,
   "id": "72f714d9",
   "metadata": {},
   "outputs": [],
   "source": []
  },
  {
   "cell_type": "code",
   "execution_count": null,
   "id": "3ebe9af4",
   "metadata": {},
   "outputs": [],
   "source": []
  },
  {
   "cell_type": "code",
   "execution_count": null,
   "id": "211472c2",
   "metadata": {},
   "outputs": [],
   "source": []
  },
  {
   "cell_type": "code",
   "execution_count": null,
   "id": "8cd186a9",
   "metadata": {},
   "outputs": [],
   "source": []
  }
 ],
 "metadata": {
  "kernelspec": {
   "display_name": "Python 3 (ipykernel)",
   "language": "python",
   "name": "python3"
  },
  "language_info": {
   "codemirror_mode": {
    "name": "ipython",
    "version": 3
   },
   "file_extension": ".py",
   "mimetype": "text/x-python",
   "name": "python",
   "nbconvert_exporter": "python",
   "pygments_lexer": "ipython3",
   "version": "3.9.7"
  }
 },
 "nbformat": 4,
 "nbformat_minor": 5
}
